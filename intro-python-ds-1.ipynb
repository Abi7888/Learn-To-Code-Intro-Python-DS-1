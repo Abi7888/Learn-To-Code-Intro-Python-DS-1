{
 "cells": [
  {
   "cell_type": "markdown",
   "metadata": {
    "collapsed": true
   },
   "source": [
    "# Welcome to Introduction to Python for Data Science\n",
    "\n",
    "A quick overview of some basic concepts in Python, applied for the field of data science. This course is designed by the Galvanize community. Feel free to download, fork, and work with it as you please!\n",
    "\n",
    "\n",
    "## In this course you will learn how to:\n",
    "\n",
    "* Set up your computer\n",
    "* Setting up iPython/Jupyter\n",
    "* Basic Python commands \n",
    "* Explorations in NumPy, Pandas, and Matplotlib\n",
    "* Sandbox time!\n",
    "\n",
    "## Gut check, Galvanize-style!\n",
    "\n",
    "* This course is for beginners\n",
    "* Feel free to move ahead\n",
    "* Help others when you can\n",
    "* Be patient and nice\n",
    "* We’ll all get through it!\n",
    "\n",
    "## What IS Python?\n",
    "\n",
    "The language of Python was created by Guido Van Rossum in the 1990s, and yes, it is totally named after Monty Python.\n",
    "Presently, the growth and adoption of the language is a an enormous open-source project with a huge worldwide community.\n",
    "\n",
    "## Why do we learn Python for data science?\n",
    "\n",
    "Python is an easy to learn, general-purpose, scalable language with popular libraries such as:\n",
    "* SciPy.org (Math, Science, Engineering)\n",
    "* StatsModels (Statistics)\n",
    "* Pandas (Frameworks)\n",
    "* SciKit-Learn (Machine Learning)\n",
    "* GGplot, MatplotLib, Plot.ly (Graphics)\n",
    "\n",
    "## Let's set up your computer!\n",
    "\n",
    "### Step 1: Install Anaconda.\n",
    "\n",
    "Anaconda from Continuum Analytics provides virtually everything you need to get started in data science. Go to [continuum.io/downloads](https://continuum.io/downloads) and follow the instructions in the website - they vary per platform. \n",
    "\n",
    "### Step 2: Install Git (optional)\n",
    "\n",
    "You'll need a command line prompt to launch Anaconda's Jupyter Notebooks for this lesson. We recommend Git in case you're interested in version control or cloud deployment in the future. Go to [git-scm.com/downloads](https://git-scm.com/downloads) and follow the directions there.\n",
    "\n",
    "### Step 3: Activate your Jupyter Notebook\n",
    "\n",
    "We're going to use Jupyter, formerly known as IPython, which is short for “Interactive Python.” This is a way for you to code within a browser in a faster, interactive way.\n",
    "\n",
    "1. Open up your Git terminal\n",
    "2. Navigate to your working directory\n",
    "3. Type “jupyter notebook” into the prompt\n",
    "4. Some computation should happen...\n",
    "5. Go to your browser and type in this URL: http://localhost:8888/ (this may launch anyway)\n",
    "\n",
    "If you see a new browser tab pop up, create a \"New\" notebook in the top right corner. Let's get started!\n",
    "\n",
    "## Basic Python Commands\n",
    "\n",
    "We're going to use this notebook to engage more actively with Python! For ease, I've created all the commands for you, but I recommend that you practice typing your own as well to get the \"feel\" for how a data scientist operates. *Learn by doing!*"
   ]
  },
  {
   "cell_type": "markdown",
   "metadata": {},
   "source": [
    "### Data Types\n",
    "\n",
    "Like all coding languages, Python allows us to manipulate types of data in different ways. The first step to understanding it is to know what kinds of data it handles.\n",
    "\n",
    "There are generally **five** types of data:\n",
    "\n",
    "* int - integer value\n",
    "* float - decimal value\n",
    "* bool - True/False\n",
    "* complex - imaginary\n",
    "* NoneType - null value\n",
    "\n",
    "## LET'S CODE!\n",
    "\n",
    "Run the commands in the notebook below by clicking on them and typing 'Shift+Enter.' *What are the outputs?*"
   ]
  },
  {
   "cell_type": "code",
   "execution_count": null,
   "metadata": {
    "collapsed": true
   },
   "outputs": [],
   "source": [
    "type(3.1415)"
   ]
  },
  {
   "cell_type": "code",
   "execution_count": null,
   "metadata": {
    "collapsed": true
   },
   "outputs": [],
   "source": [
    "type(10)"
   ]
  },
  {
   "cell_type": "code",
   "execution_count": null,
   "metadata": {
    "collapsed": true
   },
   "outputs": [],
   "source": [
    "type(4+8j)"
   ]
  },
  {
   "cell_type": "code",
   "execution_count": null,
   "metadata": {
    "collapsed": true
   },
   "outputs": [],
   "source": [
    "type(False)"
   ]
  },
  {
   "cell_type": "code",
   "execution_count": null,
   "metadata": {
    "collapsed": false,
    "scrolled": true
   },
   "outputs": [],
   "source": [
    "type('')"
   ]
  },
  {
   "cell_type": "markdown",
   "metadata": {},
   "source": [
    "### 'Arrays' in Python\n",
    "\n",
    "Storing and organizing data in Python is immensely helpful, especially when you're attempting data science. Below are the five types of 'iterable data' available in Python (I use that term loosely for good reason).\n",
    "\n",
    "* str - string/varchar immutable value, defined with quotes = ‘abc’\n",
    "* list - collection of elements, defined with brackets = [‘a’, ‘b’]\n",
    "* tuple - immutable list, defined with parentheses = (‘a’, ‘b’)\n",
    "* dict - unordered key-value pairs, keys are unique and immutable, defined with braces = {‘a’:1, ‘b’:2} \n",
    "* set - unordered collection of unique elements, defined with braces = {‘a’, ‘b’}\n",
    "\n",
    "## LET'S CODE\n",
    "\n",
    "Using the cell below, create a list called `doc` that contains four elements of varying data types."
   ]
  },
  {
   "cell_type": "code",
   "execution_count": null,
   "metadata": {
    "collapsed": true
   },
   "outputs": [],
   "source": [
    "doc = [ 'Gigawatts', 88 , 'miles per hour' , 1.21 ] # What is the result of 'doc[2]'?"
   ]
  },
  {
   "cell_type": "markdown",
   "metadata": {},
   "source": [
    "What is the value of `doc[2]`? Run the cell below."
   ]
  },
  {
   "cell_type": "code",
   "execution_count": null,
   "metadata": {
    "collapsed": true
   },
   "outputs": [],
   "source": [
    "doc[2]"
   ]
  },
  {
   "cell_type": "markdown",
   "metadata": {},
   "source": [
    "### Control Flows in Python\n",
    "\n",
    "Conditional statements are also very useful in coding, and for Python, the syntax is slightly different.\n",
    "\n",
    "##### If, else statements"
   ]
  },
  {
   "cell_type": "code",
   "execution_count": null,
   "metadata": {
    "collapsed": true
   },
   "outputs": [],
   "source": [
    "x, y = False, False\n",
    "if x:\n",
    "    print('Apple')\n",
    "elif y:\n",
    "    print('Orange')\n",
    "else:\n",
    "    print('sandwich')"
   ]
  },
  {
   "cell_type": "markdown",
   "metadata": {},
   "source": [
    "*What do you think the output will be?*"
   ]
  },
  {
   "cell_type": "markdown",
   "metadata": {},
   "source": [
    "##### While loops\n",
    "\n",
    "Note the indents - a critical part of the syntax of Python. As always, make sure your `while` loops are written in such a way that will eventually break, or they could end up overloading your computer.\n",
    "\n",
    "Try the code below."
   ]
  },
  {
   "cell_type": "code",
   "execution_count": null,
   "metadata": {
    "collapsed": true
   },
   "outputs": [],
   "source": [
    "x = 0\n",
    "while True:\n",
    "    print('Hello!')\n",
    "    x += 1\n",
    "    if x >= 3:\n",
    "        break   "
   ]
  },
  {
   "cell_type": "markdown",
   "metadata": {},
   "source": [
    "What do you think will be printed out from this loop?     \n",
    "\n",
    "##### For Loops"
   ]
  },
  {
   "cell_type": "code",
   "execution_count": null,
   "metadata": {
    "collapsed": true
   },
   "outputs": [],
   "source": [
    "for k in range(4):\n",
    "    print(k ** 3)"
   ]
  },
  {
   "cell_type": "markdown",
   "metadata": {},
   "source": [
    "### Functions - creating ways to use and interact with objects\n",
    "\n",
    "Starting anything with `def` will define a function with parameters. You can run that function afterwards by passing an argument through its parentheses `()`. Check out the basic math functions we have below."
   ]
  },
  {
   "cell_type": "code",
   "execution_count": null,
   "metadata": {
    "collapsed": true
   },
   "outputs": [],
   "source": [
    "def x_plus_4(x):\n",
    "    return x + 4\n",
    "\n",
    "x_plus_4(5)"
   ]
  },
  {
   "cell_type": "code",
   "execution_count": null,
   "metadata": {
    "collapsed": true
   },
   "outputs": [],
   "source": [
    "def subtract(x,y):\n",
    "    return x - y\n",
    "\n",
    "subtract(7,3)"
   ]
  },
  {
   "cell_type": "markdown",
   "metadata": {},
   "source": [
    "### Import - bringing in libraries and frameworks to assist!\n",
    "\n",
    "`import` makes our lives much easier by bringing in built-in functionality from Anaconda and elsewhere. For example, we can import pi instead of calculating it ourselves."
   ]
  },
  {
   "cell_type": "code",
   "execution_count": null,
   "metadata": {
    "collapsed": true
   },
   "outputs": [],
   "source": [
    "import math # Typically, we like to do imports at the top of a Python file\n",
    "math.pi"
   ]
  },
  {
   "cell_type": "code",
   "execution_count": null,
   "metadata": {
    "collapsed": true
   },
   "outputs": [],
   "source": [
    "from math import sin\n",
    "sin(math.pi/2)"
   ]
  },
  {
   "cell_type": "markdown",
   "metadata": {},
   "source": [
    "## LET'S CODE WITH NUMPY\n",
    "\n",
    "##### What is NumPy?\n",
    "\n",
    "Numpy is a python library of mathematical functions that allow us to operate on huge arrays and matrices of data. It's the first step to giving us the ability to do some interesting things with larger data sets.\n",
    "\n",
    "For now, let's start small and built a basic array."
   ]
  },
  {
   "cell_type": "code",
   "execution_count": null,
   "metadata": {
    "collapsed": true
   },
   "outputs": [],
   "source": [
    "import numpy as np\n",
    "a = np.array([0,1,5,7,6])\n",
    "a[3]"
   ]
  },
  {
   "cell_type": "markdown",
   "metadata": {},
   "source": [
    "Cool. Let's start building in more than one dimension of data, transpose it, and even multiply it with another array."
   ]
  },
  {
   "cell_type": "code",
   "execution_count": null,
   "metadata": {
    "collapsed": true
   },
   "outputs": [],
   "source": [
    "a = np.array([[1,2,3],[4,5,6]])\n",
    "a.shape"
   ]
  },
  {
   "cell_type": "code",
   "execution_count": null,
   "metadata": {
    "collapsed": true
   },
   "outputs": [],
   "source": [
    "a.T # transposing the array\n",
    "a.T.shape"
   ]
  },
  {
   "cell_type": "code",
   "execution_count": null,
   "metadata": {
    "collapsed": true
   },
   "outputs": [],
   "source": [
    "b = np.array([6,7])\n",
    "np.dot(a.T,b) # matrix multiplication"
   ]
  },
  {
   "cell_type": "markdown",
   "metadata": {},
   "source": [
    "Let's kick it up a notch. Potentially, you can work in the nth dimension!"
   ]
  },
  {
   "cell_type": "code",
   "execution_count": null,
   "metadata": {
    "collapsed": true
   },
   "outputs": [],
   "source": [
    "aa = np.array(\n",
    "    [[1,2,3],[4,5,6],[1,2,3],[4,5,6]]\n",
    "    )\n",
    "bb = np.array(\n",
    "    [[[3],[4],[6]],[[6],[5],[7]]]\n",
    "    )"
   ]
  },
  {
   "cell_type": "code",
   "execution_count": null,
   "metadata": {
    "collapsed": true
   },
   "outputs": [],
   "source": [
    "aa.shape, bb.shape # why do we check?"
   ]
  },
  {
   "cell_type": "code",
   "execution_count": null,
   "metadata": {
    "collapsed": true
   },
   "outputs": [],
   "source": [
    "np.dot(aa,bb)"
   ]
  },
  {
   "cell_type": "markdown",
   "metadata": {},
   "source": [
    "## LET'S CODE WITH PANDAS\n",
    "\n",
    "Pandas is an open-source Python library providing powerful data structures and analysis tools. It's commonly used by data scientists and will be helpful for some cool things we'll do here.\n",
    "\n",
    "First, we'll `import` pandas and give it a short name for ease of use. \n",
    "\n",
    "Let's create a new dataframe! Here, we're importing a dictionary into Pandas."
   ]
  },
  {
   "cell_type": "code",
   "execution_count": null,
   "metadata": {
    "collapsed": false
   },
   "outputs": [],
   "source": [
    "import pandas as pd\n",
    "import numpy as np # Probably don't need this, but just in case\n",
    "dd = {\n",
    "    ‘0’: pd.Series([1,2], index=[‘a’,‘b’]), \n",
    "    ‘1’: pd.Series([15,25,35], index=[‘a’,‘b’,‘c’])\n",
    "    }\n",
    "pd.DataFrame(dd)"
   ]
  },
  {
   "cell_type": "markdown",
   "metadata": {},
   "source": [
    "We can also write dataframes directly with the function `Dataframe({})`. See below!"
   ]
  },
  {
   "cell_type": "code",
   "execution_count": null,
   "metadata": {
    "collapsed": true
   },
   "outputs": [],
   "source": [
    "df = pd.DataFrame({\n",
    "    ‘int_col’: [1,2,6,8,-1],\n",
    "    ‘float_col’:[0.1,0.2,0.2,10.1,None],\n",
    "    ‘str_col’: [‘a’,‘b’,None,‘c’,‘a’]})\n",
    "df"
   ]
  },
  {
   "cell_type": "markdown",
   "metadata": {},
   "source": [
    "Now that you've created a quantitative dataframe, we can do a few statistical analyses. Run the following."
   ]
  },
  {
   "cell_type": "code",
   "execution_count": null,
   "metadata": {
    "collapsed": true
   },
   "outputs": [],
   "source": [
    "df.describe() # basic stats"
   ]
  },
  {
   "cell_type": "code",
   "execution_count": null,
   "metadata": {
    "collapsed": true
   },
   "outputs": [],
   "source": [
    "df.corr() # correlation"
   ]
  },
  {
   "cell_type": "code",
   "execution_count": null,
   "metadata": {
    "collapsed": true
   },
   "outputs": [],
   "source": [
    "df.cov() # covariance"
   ]
  },
  {
   "cell_type": "markdown",
   "metadata": {},
   "source": [
    "## LET'S MAKE VISUALIZATIONS\n",
    "\n",
    "The best way to convey your data is by showing it in meaningful ways. To do so, we're going to use **Matplotlib**, another popular Python library for creating visualizations.\n",
    "\n",
    "First, let's import the library and the command for showing these visualizations inline."
   ]
  },
  {
   "cell_type": "code",
   "execution_count": null,
   "metadata": {
    "collapsed": true
   },
   "outputs": [],
   "source": [
    "%matplotlib inline \n",
    "import matplotlib.pyplot as plt"
   ]
  },
  {
   "cell_type": "markdown",
   "metadata": {},
   "source": [
    "What might this informaton look like? Let's use our previous libraries to create some random data."
   ]
  },
  {
   "cell_type": "code",
   "execution_count": null,
   "metadata": {
    "collapsed": true
   },
   "outputs": [],
   "source": [
    "plot_df = pd.DataFrame(\n",
    "    np.random.randn(100,2),columns=[‘x’,‘y’]\n",
    "    )\n",
    "plot_df[‘y’] += plot_df[‘x’]\n",
    "plot_df.head()"
   ]
  },
  {
   "cell_type": "markdown",
   "metadata": {},
   "source": [
    "We can now create a simple plot of the data. Run the code below. Did it work?"
   ]
  },
  {
   "cell_type": "code",
   "execution_count": null,
   "metadata": {
    "collapsed": true
   },
   "outputs": [],
   "source": [
    "plot_df.plot()"
   ]
  },
  {
   "cell_type": "markdown",
   "metadata": {},
   "source": [
    "Let's create a scatterplot! Run the code below. Do you see any major differences?"
   ]
  },
  {
   "cell_type": "code",
   "execution_count": null,
   "metadata": {
    "collapsed": true
   },
   "outputs": [],
   "source": [
    "plot_df.plot(‘x’,‘y’,kind=‘scatter’)"
   ]
  },
  {
   "cell_type": "markdown",
   "metadata": {},
   "source": [
    "Let's create a histogram! Run the code below. How does this visualization compare with the others?"
   ]
  },
  {
   "cell_type": "code",
   "execution_count": null,
   "metadata": {
    "collapsed": true
   },
   "outputs": [],
   "source": [
    "plot_df.plot(kind=‘hist’,alpha=0.3)"
   ]
  },
  {
   "cell_type": "markdown",
   "metadata": {
    "collapsed": true
   },
   "source": [
    "## SANDBOX TIME!\n",
    "\n",
    "You're almost done! Let's see how you do on your own.\n",
    "\n",
    "**Try one of the following:**\n",
    "* Merging and joining your data frames\n",
    "* Removing and replacing some missing values\n",
    "* Renaming your data columns\n",
    "* Download a dataset and conduct some analysis\n"
   ]
  },
  {
   "cell_type": "markdown",
   "metadata": {},
   "source": [
    "# YOU ARE NOW A DATA SCIENTIST! (KINDA)\n",
    "\n",
    "Don't stop learning! Visit the [Galvanize Open Source](https://github.com/galvanizeopensource) project to learn more through our other coding courses. We update this often with the latest distributed work, so check back for more details.\n",
    "\n",
    "## Interested in learning with Galvanize? \n",
    "\n",
    "This course was created by the geniuses who work at Galvanize. Here are some options:\n",
    "\n",
    "**Data Science Fundamentals: Intro to Python**\n",
    "* 6 week part-time workshop\n",
    "\n",
    "**Data Science Immersive Program**\n",
    "* 12 week full-time program\n",
    "\n",
    "**GalvanizeU**\n",
    "* 12 month program in San Francisco\n",
    "* Fully-accredited by the University of New Haven\n",
    "\n",
    "Learn more at our website here: [http://www.galvanize.com/courses/data-science](http://www.galvanize.com/courses/data-science)\n",
    "\n",
    "Got feedback for us? Feel free to email us at [info@galvanize.com](mailto:info@galvanize.com)."
   ]
  },
  {
   "cell_type": "markdown",
   "metadata": {},
   "source": [
    "## About this Course's Author\n",
    "\n",
    "Lee Ngo is an evangelist for Galvanize based in Seattle. Previously he worked for UP Global (now Techstars) and founded his own ed-tech company in Pittsburgh, PA. Lee believes in learning by doing, engaging and sharing, and he teaches code through a combination of visual communication, teamwork, and project-oriented learning.\n",
    "\n",
    "You can email him at lee.ngo@galvanize.com for any further questions."
   ]
  }
 ],
 "metadata": {
  "anaconda-cloud": {},
  "kernelspec": {
   "display_name": "Python [Root]",
   "language": "python",
   "name": "Python [Root]"
  },
  "language_info": {
   "codemirror_mode": {
    "name": "ipython",
    "version": 2
   },
   "file_extension": ".py",
   "mimetype": "text/x-python",
   "name": "python",
   "nbconvert_exporter": "python",
   "pygments_lexer": "ipython2",
   "version": "2.7.11"
  }
 },
 "nbformat": 4,
 "nbformat_minor": 0
}
